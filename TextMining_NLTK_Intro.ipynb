{
 "cells": [
  {
   "cell_type": "markdown",
   "metadata": {},
   "source": [
    "Import NLTK and assign testdata variable with String"
   ]
  },
  {
   "cell_type": "code",
   "execution_count": 1,
   "metadata": {
    "collapsed": true
   },
   "outputs": [],
   "source": [
    "import nltk\n",
    "testdata = '''\n",
    "This article is focused on English-language literature rather than the literature of England, so that it includes writers from Scotland, Wales, and the whole of Ireland, as well as literature in English from countries of the former British Empire, including the United States. However, until the early 19th century, it only deals with the literature of the United Kingdom and Ireland. It does not include literature written in the other languages of Britain.\n",
    "The English language has developed over the course of more than 1,400 years. The earliest forms of English, a set of Anglo-Frisian dialects brought to Great Britain by Anglo-Saxon settlers in the fifth century, are called Old English. Middle English began in the late 11th century with the Norman conquest of England. Early Modern English began in the late 15th century with the introduction of the printing press to London and the King James Bible as well as the Great Vowel Shift.Through the influence of the British Empire, the English language has spread around the world since the 17th century.\n",
    "After the Norman conquest of England in 1066, the written form of the Anglo-Saxon language became less common. Under the influence of the new aristocracy, French became the standard language of courts, parliament, and polite society. As the invaders integrated, their language and literature mingled with that of the natives, and the Norman dialects of the ruling classes became Anglo-Norman. From then until the 12th century Anglo-Saxon underwent a gradual transition into Middle English. Political power was no longer in English hands, so that the West Saxon literary language had no more influence than any other dialect and Middle English literature was written in the many dialects that corresponded to the region, history, culture, and background of individual writers.\n",
    "In this period religious literature continued to enjoy popularity and Hagiographies were written, adapted and translated: for example, The Life of Saint Audrey, Eadmers. At the end of the 12th century, Layamon in Brut adapted the Norman-French of Wace to produce the first English-language work to present the legends of King Arthur and the Knights of the Round Table. It was also the first historiography written in English since the Anglo-Saxon Chronicle.\n",
    "'''"
   ]
  },
  {
   "cell_type": "code",
   "execution_count": 2,
   "metadata": {
    "collapsed": false
   },
   "outputs": [
    {
     "name": "stdout",
     "output_type": "stream",
     "text": [
      "\n",
      "This article is focused on English-language literature rather than the literature of England, so that it includes writers from Scotland, Wales, and the whole of Ireland, as well as literature in English from countries of the former British Empire, including the United States. However, until the early 19th century, it only deals with the literature of the United Kingdom and Ireland. It does not include literature written in the other languages of Britain.\n",
      "The English language has developed over the course of more than 1,400 years. The earliest forms of English, a set of Anglo-Frisian dialects brought to Great Britain by Anglo-Saxon settlers in the fifth century, are called Old English. Middle English began in the late 11th century with the Norman conquest of England. Early Modern English began in the late 15th century with the introduction of the printing press to London and the King James Bible as well as the Great Vowel Shift.Through the influence of the British Empire, the English language has spread around the world since the 17th century.\n",
      "After the Norman conquest of England in 1066, the written form of the Anglo-Saxon language became less common. Under the influence of the new aristocracy, French became the standard language of courts, parliament, and polite society. As the invaders integrated, their language and literature mingled with that of the natives, and the Norman dialects of the ruling classes became Anglo-Norman. From then until the 12th century Anglo-Saxon underwent a gradual transition into Middle English. Political power was no longer in English hands, so that the West Saxon literary language had no more influence than any other dialect and Middle English literature was written in the many dialects that corresponded to the region, history, culture, and background of individual writers.\n",
      "In this period religious literature continued to enjoy popularity and Hagiographies were written, adapted and translated: for example, The Life of Saint Audrey, Eadmers. At the end of the 12th century, Layamon in Brut adapted the Norman-French of Wace to produce the first English-language work to present the legends of King Arthur and the Knights of the Round Table. It was also the first historiography written in English since the Anglo-Saxon Chronicle.\n",
      "\n"
     ]
    }
   ],
   "source": [
    "print(testdata)"
   ]
  },
  {
   "cell_type": "code",
   "execution_count": 18,
   "metadata": {
    "collapsed": false
   },
   "outputs": [
    {
     "name": "stdout",
     "output_type": "stream",
     "text": [
      "['this', 'article', 'is', 'focused', 'on', 'english', 'language', 'literature', 'rather', 'than', 'the', 'literature', 'of', 'england', 'so', 'that', 'it', 'includes', 'writers', 'from', 'scotland', 'wales', 'and', 'the', 'whole', 'of', 'ireland', 'as', 'well', 'as', 'literature', 'in', 'english', 'from', 'countries', 'of', 'the', 'former', 'british', 'empire', 'including', 'the', 'united', 'states', 'however', 'until', 'the', 'early', '19th', 'century', 'it', 'only', 'deals', 'with', 'the', 'literature', 'of', 'the', 'united', 'kingdom', 'and', 'ireland', 'it', 'does', 'not', 'include', 'literature', 'written', 'in', 'the', 'other', 'languages', 'of', 'britain', 'the', 'english', 'language', 'has', 'developed', 'over', 'the', 'course', 'of', 'more', 'than', '1', '400', 'years', 'the', 'earliest', 'forms', 'of', 'english', 'a', 'set', 'of', 'anglo', 'frisian', 'dialects', 'brought', 'to', 'great', 'britain', 'by', 'anglo', 'saxon', 'settlers', 'in', 'the', 'fifth', 'century', 'are', 'called', 'old', 'english', 'middle', 'english', 'began', 'in', 'the', 'late', '11th', 'century', 'with', 'the', 'norman', 'conquest', 'of', 'england', 'early', 'modern', 'english', 'began', 'in', 'the', 'late', '15th', 'century', 'with', 'the', 'introduction', 'of', 'the', 'printing', 'press', 'to', 'london', 'and', 'the', 'king', 'james', 'bible', 'as', 'well', 'as', 'the', 'great', 'vowel', 'shift', 'through', 'the', 'influence', 'of', 'the', 'british', 'empire', 'the', 'english', 'language', 'has', 'spread', 'around', 'the', 'world', 'since', 'the', '17th', 'century', 'after', 'the', 'norman', 'conquest', 'of', 'england', 'in', '1066', 'the', 'written', 'form', 'of', 'the', 'anglo', 'saxon', 'language', 'became', 'less', 'common', 'under', 'the', 'influence', 'of', 'the', 'new', 'aristocracy', 'french', 'became', 'the', 'standard', 'language', 'of', 'courts', 'parliament', 'and', 'polite', 'society', 'as', 'the', 'invaders', 'integrated', 'their', 'language', 'and', 'literature', 'mingled', 'with', 'that', 'of', 'the', 'natives', 'and', 'the', 'norman', 'dialects', 'of', 'the', 'ruling', 'classes', 'became', 'anglo', 'norman', 'from', 'then', 'until', 'the', '12th', 'century', 'anglo', 'saxon', 'underwent', 'a', 'gradual', 'transition', 'into', 'middle', 'english', 'political', 'power', 'was', 'no', 'longer', 'in', 'english', 'hands', 'so', 'that', 'the', 'west', 'saxon', 'literary', 'language', 'had', 'no', 'more', 'influence', 'than', 'any', 'other', 'dialect', 'and', 'middle', 'english', 'literature', 'was', 'written', 'in', 'the', 'many', 'dialects', 'that', 'corresponded', 'to', 'the', 'region', 'history', 'culture', 'and', 'background', 'of', 'individual', 'writers', 'in', 'this', 'period', 'religious', 'literature', 'continued', 'to', 'enjoy', 'popularity', 'and', 'hagiographies', 'were', 'written', 'adapted', 'and', 'translated', 'for', 'example', 'the', 'life', 'of', 'saint', 'audrey', 'eadmers', 'at', 'the', 'end', 'of', 'the', '12th', 'century', 'layamon', 'in', 'brut', 'adapted', 'the', 'norman', 'french', 'of', 'wace', 'to', 'produce', 'the', 'first', 'english', 'language', 'work', 'to', 'present', 'the', 'legends', 'of', 'king', 'arthur', 'and', 'the', 'knights', 'of', 'the', 'round', 'table', 'it', 'was', 'also', 'the', 'first', 'historiography', 'written', 'in', 'english', 'since', 'the', 'anglo', 'saxon', 'chronicle']\n"
     ]
    }
   ],
   "source": [
    "from nltk.corpus import RegexpTokenizer as regexToken\n",
    "tokenizer = regexToken(r'\\w+')\n",
    "tokens = tokenizer.tokenize(testdata.lower())\n",
    "print(tokens)"
   ]
  },
  {
   "cell_type": "code",
   "execution_count": 20,
   "metadata": {
    "collapsed": false
   },
   "outputs": [
    {
     "name": "stdout",
     "output_type": "stream",
     "text": [
      "['article', 'focused', 'english', 'language', 'literature', 'rather', 'literature', 'england', 'includes', 'writers', 'scotland', 'wales', 'whole', 'ireland', 'well', 'literature', 'english', 'countries', 'former', 'british', 'empire', 'including', 'united', 'states', 'however', 'early', '19th', 'century', 'deals', 'literature', 'united', 'kingdom', 'ireland', 'include', 'literature', 'written', 'languages', 'britain', 'english', 'language', 'developed', 'course', '1', '400', 'years', 'earliest', 'forms', 'english', 'set', 'anglo', 'frisian', 'dialects', 'brought', 'great', 'britain', 'anglo', 'saxon', 'settlers', 'fifth', 'century', 'called', 'old', 'english', 'middle', 'english', 'began', 'late', '11th', 'century', 'norman', 'conquest', 'england', 'early', 'modern', 'english', 'began', 'late', '15th', 'century', 'introduction', 'printing', 'press', 'london', 'king', 'james', 'bible', 'well', 'great', 'vowel', 'shift', 'influence', 'british', 'empire', 'english', 'language', 'spread', 'around', 'world', 'since', '17th', 'century', 'norman', 'conquest', 'england', '1066', 'written', 'form', 'anglo', 'saxon', 'language', 'became', 'less', 'common', 'influence', 'new', 'aristocracy', 'french', 'became', 'standard', 'language', 'courts', 'parliament', 'polite', 'society', 'invaders', 'integrated', 'language', 'literature', 'mingled', 'natives', 'norman', 'dialects', 'ruling', 'classes', 'became', 'anglo', 'norman', '12th', 'century', 'anglo', 'saxon', 'underwent', 'gradual', 'transition', 'middle', 'english', 'political', 'power', 'longer', 'english', 'hands', 'west', 'saxon', 'literary', 'language', 'influence', 'dialect', 'middle', 'english', 'literature', 'written', 'many', 'dialects', 'corresponded', 'region', 'history', 'culture', 'background', 'individual', 'writers', 'period', 'religious', 'literature', 'continued', 'enjoy', 'popularity', 'hagiographies', 'written', 'adapted', 'translated', 'example', 'life', 'saint', 'audrey', 'eadmers', 'end', '12th', 'century', 'layamon', 'brut', 'adapted', 'norman', 'french', 'wace', 'produce', 'first', 'english', 'language', 'work', 'present', 'legends', 'king', 'arthur', 'knights', 'round', 'table', 'also', 'first', 'historiography', 'written', 'english', 'since', 'anglo', 'saxon', 'chronicle']\n"
     ]
    }
   ],
   "source": [
    "from nltk.corpus import stopwords\n",
    "stop = stopwords.words(\"english\")\n",
    "tokens = [token for token in tokens if token not in stop]\n",
    "print(tokens)"
   ]
  },
  {
   "cell_type": "code",
   "execution_count": 21,
   "metadata": {
    "collapsed": false
   },
   "outputs": [
    {
     "name": "stdout",
     "output_type": "stream",
     "text": [
      "['article', 'focused', 'english', 'language', 'literature', 'rather', 'literature', 'england', 'includes', u'writer', 'scotland', u'wale', 'whole', 'ireland', 'well', 'literature', 'english', u'country', 'former', 'british', 'empire', 'including', 'united', u'state', 'however', 'early', '19th', 'century', u'deal', 'literature', 'united', 'kingdom', 'ireland', 'include', 'literature', 'written', u'language', 'britain', 'english', 'language', 'developed', 'course', '1', '400', u'year', 'earliest', u'form', 'english', 'set', 'anglo', 'frisian', u'dialect', 'brought', 'great', 'britain', 'anglo', 'saxon', u'settler', 'fifth', 'century', 'called', 'old', 'english', 'middle', 'english', 'began', 'late', '11th', 'century', 'norman', 'conquest', 'england', 'early', 'modern', 'english', 'began', 'late', '15th', 'century', 'introduction', 'printing', 'press', 'london', 'king', 'james', 'bible', 'well', 'great', 'vowel', 'shift', 'influence', 'british', 'empire', 'english', 'language', 'spread', 'around', 'world', 'since', '17th', 'century', 'norman', 'conquest', 'england', '1066', 'written', 'form', 'anglo', 'saxon', 'language', 'became', u'le', 'common', 'influence', 'new', 'aristocracy', 'french', 'became', 'standard', 'language', u'court', 'parliament', 'polite', 'society', u'invader', 'integrated', 'language', 'literature', 'mingled', u'native', 'norman', u'dialect', 'ruling', u'class', 'became', 'anglo', 'norman', '12th', 'century', 'anglo', 'saxon', 'underwent', 'gradual', 'transition', 'middle', 'english', 'political', 'power', 'longer', 'english', u'hand', 'west', 'saxon', 'literary', 'language', 'influence', 'dialect', 'middle', 'english', 'literature', 'written', 'many', u'dialect', 'corresponded', 'region', 'history', 'culture', 'background', 'individual', u'writer', 'period', 'religious', 'literature', 'continued', 'enjoy', 'popularity', u'hagiography', 'written', 'adapted', 'translated', 'example', 'life', 'saint', 'audrey', 'eadmers', 'end', '12th', 'century', 'layamon', 'brut', 'adapted', 'norman', 'french', 'wace', 'produce', 'first', 'english', 'language', 'work', 'present', u'legend', 'king', 'arthur', u'knight', 'round', 'table', 'also', 'first', 'historiography', 'written', 'english', 'since', 'anglo', 'saxon', 'chronicle']\n"
     ]
    }
   ],
   "source": [
    "from nltk.stem.wordnet import WordNetLemmatizer\n",
    "tokens1 = [WordNetLemmatizer().lemmatize(token) for token in tokens]\n",
    "print(tokens1)"
   ]
  },
  {
   "cell_type": "code",
   "execution_count": 22,
   "metadata": {
    "collapsed": false
   },
   "outputs": [
    {
     "name": "stdout",
     "output_type": "stream",
     "text": [
      "[u'articl', u'focus', u'english', u'languag', u'literatur', u'rather', u'literatur', u'england', u'includ', u'writer', u'scotland', u'wale', u'whole', u'ireland', u'well', u'literatur', u'english', u'countri', u'former', u'british', u'empir', u'includ', u'unit', u'state', u'howev', u'earli', u'19th', u'centuri', u'deal', u'literatur', u'unit', u'kingdom', u'ireland', u'includ', u'literatur', u'written', u'languag', u'britain', u'english', u'languag', u'develop', u'cours', u'1', u'400', u'year', u'earliest', u'form', u'english', u'set', u'anglo', u'frisian', u'dialect', u'brought', u'great', u'britain', u'anglo', u'saxon', u'settler', u'fifth', u'centuri', u'call', u'old', u'english', u'middl', u'english', u'began', u'late', u'11th', u'centuri', u'norman', u'conquest', u'england', u'earli', u'modern', u'english', u'began', u'late', u'15th', u'centuri', u'introduct', u'print', u'press', u'london', u'king', u'jame', u'bibl', u'well', u'great', u'vowel', u'shift', u'influenc', u'british', u'empir', u'english', u'languag', u'spread', u'around', u'world', u'sinc', u'17th', u'centuri', u'norman', u'conquest', u'england', u'1066', u'written', u'form', u'anglo', u'saxon', u'languag', u'becam', u'less', u'common', u'influenc', u'new', u'aristocraci', u'french', u'becam', u'standard', u'languag', u'court', u'parliament', u'polit', u'societi', u'invad', u'integr', u'languag', u'literatur', u'mingl', u'nativ', u'norman', u'dialect', u'rule', u'class', u'becam', u'anglo', u'norman', u'12th', u'centuri', u'anglo', u'saxon', u'underw', u'gradual', u'transit', u'middl', u'english', u'polit', u'power', u'longer', u'english', u'hand', u'west', u'saxon', u'literari', u'languag', u'influenc', u'dialect', u'middl', u'english', u'literatur', u'written', u'mani', u'dialect', u'correspond', u'region', u'histori', u'cultur', u'background', u'individu', u'writer', u'period', u'religi', u'literatur', u'continu', u'enjoy', u'popular', u'hagiographi', u'written', u'adapt', u'translat', u'exampl', u'life', u'saint', u'audrey', u'eadmer', u'end', u'12th', u'centuri', u'layamon', u'brut', u'adapt', u'norman', u'french', u'wace', u'produc', u'first', u'english', u'languag', u'work', u'present', u'legend', u'king', u'arthur', u'knight', u'round', u'tabl', u'also', u'first', u'historiographi', u'written', u'english', u'sinc', u'anglo', u'saxon', u'chronicl']\n"
     ]
    }
   ],
   "source": [
    "from nltk.stem.porter import *\n",
    "stemmer = PorterStemmer()\n",
    "tokens2 = [stemmer.stem(token) for token in tokens]\n",
    "print(tokens2)"
   ]
  },
  {
   "cell_type": "code",
   "execution_count": 24,
   "metadata": {
    "collapsed": false
   },
   "outputs": [
    {
     "data": {
      "text/plain": [
       "[((u'english', u'languag'), 4),\n",
       " ((u'anglo', u'saxon'), 4),\n",
       " ((u'middl', u'english'), 3),\n",
       " ((u'english', u'began'), 2),\n",
       " ((u'literatur', u'written'), 2),\n",
       " ((u'12th', u'centuri'), 2),\n",
       " ((u'centuri', u'norman'), 2),\n",
       " ((u'languag', u'literatur'), 2),\n",
       " ((u'conquest', u'england'), 2),\n",
       " ((u'began', u'late'), 2)]"
      ]
     },
     "execution_count": 24,
     "metadata": {},
     "output_type": "execute_result"
    }
   ],
   "source": [
    "from collections import Counter\n",
    "ngram_tokens = [ngram for ngram in nltk.ngrams(tokens2, 2)]\n",
    "#print(ngram_tokens)\n",
    "ngram_Cntrs = Counter(ngram_tokens)\n",
    "ngram_Cntrs.most_common(10)\n",
    "# or ngram_Cntrs.most_common(10) can also be handled using nltl.FreqDist function\n",
    "#ngram_freq = nltk.FreqDist() #WE INITIALIZED A FREQUENCY COUNTER\n",
    "#for ngram in nltk.ngrams(tokens, 2):\n",
    "#    ngram_freq[ngram] += 1\n",
    "#ngram_freq.most_common(10)"
   ]
  },
  {
   "cell_type": "markdown",
   "metadata": {},
   "source": [
    "\n",
    "######################################################################################################################\n",
    "\n",
    "Function Aproach\n",
    "\n",
    "######################################################################################################################"
   ]
  },
  {
   "cell_type": "code",
   "execution_count": 11,
   "metadata": {
    "collapsed": true
   },
   "outputs": [],
   "source": [
    "from nltk.corpus import RegexpTokenizer as regexToken\n",
    "from nltk.corpus import stopwords\n",
    "from nltk.stem.wordnet import WordNetLemmatizer\n",
    "from nltk.stem.porter import *\n",
    "from collections import Counter"
   ]
  },
  {
   "cell_type": "code",
   "execution_count": 25,
   "metadata": {
    "collapsed": true
   },
   "outputs": [],
   "source": [
    "def process_text(text):\n",
    "    tokenizer = regexToken(r'\\w+')\n",
    "    tokens = tokenizer.tokenize(testdata)\n",
    "    stop = stopwords.words(\"english\")\n",
    "    tokens = [token for token in tokens if token not in stop]\n",
    "    #tokens = [WordNetLemmatizer().lemmatize(token) for token in tokens]\n",
    "    stemmer = PorterStemmer()\n",
    "    tokens = [stemmer.stem(token) for token in tokens]\n",
    "    return tokens"
   ]
  },
  {
   "cell_type": "code",
   "execution_count": 26,
   "metadata": {
    "collapsed": false
   },
   "outputs": [
    {
     "name": "stdout",
     "output_type": "stream",
     "text": [
      "[u'Thi', u'articl', u'focus', u'English', u'languag', u'literatur', u'rather', u'literatur', u'England', u'includ', u'writer', u'Scotland', u'Wale', u'whole', u'Ireland', u'well', u'literatur', u'English', u'countri', u'former', u'British', u'Empir', u'includ', u'Unit', u'State', u'Howev', u'earli', u'19th', u'centuri', u'deal', u'literatur', u'Unit', u'Kingdom', u'Ireland', u'It', u'includ', u'literatur', u'written', u'languag', u'Britain', u'The', u'English', u'languag', u'develop', u'cours', u'1', u'400', u'year', u'The', u'earliest', u'form', u'English', u'set', u'Anglo', u'Frisian', u'dialect', u'brought', u'Great', u'Britain', u'Anglo', u'Saxon', u'settler', u'fifth', u'centuri', u'call', u'Old', u'English', u'Middl', u'English', u'began', u'late', u'11th', u'centuri', u'Norman', u'conquest', u'England', u'Earli', u'Modern', u'English', u'began', u'late', u'15th', u'centuri', u'introduct', u'print', u'press', u'London', u'King', u'Jame', u'Bibl', u'well', u'Great', u'Vowel', u'Shift', u'Through', u'influenc', u'British', u'Empir', u'English', u'languag', u'spread', u'around', u'world', u'sinc', u'17th', u'centuri', u'After', u'Norman', u'conquest', u'England', u'1066', u'written', u'form', u'Anglo', u'Saxon', u'languag', u'becam', u'less', u'common', u'Under', u'influenc', u'new', u'aristocraci', u'French', u'becam', u'standard', u'languag', u'court', u'parliament', u'polit', u'societi', u'As', u'invad', u'integr', u'languag', u'literatur', u'mingl', u'nativ', u'Norman', u'dialect', u'rule', u'class', u'becam', u'Anglo', u'Norman', u'From', u'12th', u'centuri', u'Anglo', u'Saxon', u'underw', u'gradual', u'transit', u'Middl', u'English', u'Polit', u'power', u'longer', u'English', u'hand', u'West', u'Saxon', u'literari', u'languag', u'influenc', u'dialect', u'Middl', u'English', u'literatur', u'written', u'mani', u'dialect', u'correspond', u'region', u'histori', u'cultur', u'background', u'individu', u'writer', u'In', u'period', u'religi', u'literatur', u'continu', u'enjoy', u'popular', u'Hagiographi', u'written', u'adapt', u'translat', u'exampl', u'The', u'Life', u'Saint', u'Audrey', u'Eadmer', u'At', u'end', u'12th', u'centuri', u'Layamon', u'Brut', u'adapt', u'Norman', u'French', u'Wace', u'produc', u'first', u'English', u'languag', u'work', u'present', u'legend', u'King', u'Arthur', u'Knight', u'Round', u'Tabl', u'It', u'also', u'first', u'historiographi', u'written', u'English', u'sinc', u'Anglo', u'Saxon', u'Chronicl']\n"
     ]
    }
   ],
   "source": [
    "tokens = process_text(testdata)\n",
    "print(tokens)"
   ]
  },
  {
   "cell_type": "code",
   "execution_count": 27,
   "metadata": {
    "collapsed": true
   },
   "outputs": [],
   "source": [
    "def process_ngram(vTokn):\n",
    "    ngram_tokens = [ngram for ngram in nltk.ngrams(vTokn, 2)]    \n",
    "    return ngram_tokens"
   ]
  },
  {
   "cell_type": "code",
   "execution_count": 28,
   "metadata": {
    "collapsed": false
   },
   "outputs": [
    {
     "data": {
      "text/plain": [
       "[((u'Anglo', u'Saxon'), 4),\n",
       " ((u'English', u'languag'), 4),\n",
       " ((u'Middl', u'English'), 3),\n",
       " ((u'Norman', u'conquest'), 2),\n",
       " ((u'English', u'began'), 2),\n",
       " ((u'literatur', u'written'), 2),\n",
       " ((u'British', u'Empir'), 2),\n",
       " ((u'12th', u'centuri'), 2),\n",
       " ((u'conquest', u'England'), 2),\n",
       " ((u'languag', u'literatur'), 2)]"
      ]
     },
     "execution_count": 28,
     "metadata": {},
     "output_type": "execute_result"
    }
   ],
   "source": [
    "ngram_tokens = process_ngram(tokens)\n",
    "ngram_Cntrs = Counter(ngram_tokens)\n",
    "ngram_Cntrs.most_common(10)"
   ]
  },
  {
   "cell_type": "markdown",
   "metadata": {},
   "source": [
    "############### Read text file from shakespeare-macbeth.txt #########################################################"
   ]
  },
  {
   "cell_type": "code",
   "execution_count": 29,
   "metadata": {
    "collapsed": false
   },
   "outputs": [
    {
     "name": "stdout",
     "output_type": "stream",
     "text": [
      "[The Tragedie of Macbeth by William Shakespeare 1603]\n",
      "\n",
      "\n",
      "Actus Primus. Scoena Prima.\n",
      "\n",
      "Thunder and Lightning. Enter three Witches.\n",
      "\n",
      "  1. When shall we three meet againe?\n",
      "In Thunder, Lightning, or in Raine?\n",
      "  2. When the Hurley-burley's done,\n",
      "When the Battaile's lost, and wonne\n",
      "\n",
      "   3. That will be ere the set of Sunne\n",
      "\n",
      "   1. Where the place?\n",
      "  2. Vpon the Heath\n",
      "\n",
      "   3. There to meet with Macbeth\n",
      "\n",
      "   1. I come, Gray-Malkin\n",
      "\n",
      "   All. Padock calls anon: faire is foule, and foule is faire,\n",
      "Houer through the fogge and filthie ayre.\n",
      "\n",
      "Exeunt.\n",
      "\n",
      "\n",
      "Scena Secunda.\n",
      "\n",
      "Alarum within. Enter King Malcome, Donalbaine, Lenox, with\n",
      "attendants,\n",
      "meeting a bleeding Captaine.\n",
      "\n",
      "  King. What bloody man is that? he can report,\n",
      "As seemeth by his plight, of the Reuolt\n",
      "The newest state\n",
      "\n",
      "   Mal. This is the Serieant,\n",
      "Who like a good and hardie Souldier fought\n",
      "'Gainst my Captiuitie: Haile braue friend;\n",
      "Say to the King, the knowledge of the Broyle,\n",
      "As thou didst leaue it\n",
      "\n",
      "   Cap. Doubtfull it stood,\n",
      "As two spent Swimmers, t\n"
     ]
    }
   ],
   "source": [
    "with open('E:\\\\CPEEB25\\\\CSE7306c\\\\20170325_Batch25_Day2_TextMining\\\\data\\\\shakespeare-macbeth.txt', 'r') as input_file:\n",
    "    raw_text = input_file.read()\n",
    "print(raw_text[:1000])"
   ]
  },
  {
   "cell_type": "markdown",
   "metadata": {},
   "source": [
    "Question: How many words are there in the text?\n",
    "\n",
    "Question: How many unique words are there in the text?\n"
   ]
  },
  {
   "cell_type": "code",
   "execution_count": 33,
   "metadata": {
    "collapsed": false
   },
   "outputs": [
    {
     "name": "stdout",
     "output_type": "stream",
     "text": [
      "18351\n"
     ]
    }
   ],
   "source": [
    "## Another way to calculate number of words\n",
    "tokens = tokenizer.tokenize(raw_text)\n",
    "#print(tokens)\n",
    "textCounter = Counter(tokens)\n",
    "num_words = sum(textCounter.values())\n",
    "print(num_words)"
   ]
  },
  {
   "cell_type": "code",
   "execution_count": 34,
   "metadata": {
    "collapsed": false
   },
   "outputs": [
    {
     "name": "stdout",
     "output_type": "stream",
     "text": [
      "18351\n"
     ]
    }
   ],
   "source": [
    "## Another simple way to find number of words.\n",
    "num_words = len(tokens)\n",
    "print(num_words)"
   ]
  },
  {
   "cell_type": "code",
   "execution_count": 35,
   "metadata": {
    "collapsed": false
   },
   "outputs": [
    {
     "name": "stdout",
     "output_type": "stream",
     "text": [
      "4004\n"
     ]
    }
   ],
   "source": [
    "## Way to find number of unique words.\n",
    "uniqueWrdCount = len(set(tokens))\n",
    "print(uniqueWrdCount)"
   ]
  }
 ],
 "metadata": {
  "anaconda-cloud": {},
  "kernelspec": {
   "display_name": "Python [conda root]",
   "language": "python",
   "name": "conda-root-py"
  },
  "language_info": {
   "codemirror_mode": {
    "name": "ipython",
    "version": 2
   },
   "file_extension": ".py",
   "mimetype": "text/x-python",
   "name": "python",
   "nbconvert_exporter": "python",
   "pygments_lexer": "ipython2",
   "version": "2.7.12"
  }
 },
 "nbformat": 4,
 "nbformat_minor": 1
}
